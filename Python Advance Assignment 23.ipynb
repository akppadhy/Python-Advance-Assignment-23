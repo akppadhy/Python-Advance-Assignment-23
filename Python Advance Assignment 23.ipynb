{
 "cells": [
  {
   "cell_type": "code",
   "execution_count": null,
   "id": "bb5712e1-ec95-4b55-a01c-98afeb0bb810",
   "metadata": {},
   "outputs": [],
   "source": [
    "#1.  If you have any, what are your choices for increasing the comparison between different figures on the same graph?\n",
    "\n",
    "Ans. Matplotlib provides a convenient method called subplots for increasing the comparison between different figures on the same graph. \n",
    "Subplots mean a group of smaller axes (where each axis is a plot) that can exist together within a single figure."
   ]
  },
  {
   "cell_type": "code",
   "execution_count": null,
   "id": "6a873b63-e7b4-4522-98a6-ac104402e30b",
   "metadata": {},
   "outputs": [],
   "source": [
    "#2. Can you explain the benefit of compound interest over a higher rate of interest that does not compound after reading this chapter?\n",
    "\n",
    "Ans. Compound interest makes a sum of money grow at a faster rate than simple interest,because in addition to earning returns on the \n",
    "money you invest, you also earn returns on those returns at the end of every compounding period, which could be daily, monthly, quarterly or \n",
    "annually."
   ]
  },
  {
   "cell_type": "code",
   "execution_count": null,
   "id": "1111e5df-086c-43fd-a1d5-a178888e6510",
   "metadata": {},
   "outputs": [],
   "source": [
    "#3. What is a histogram, exactly? Name a numpy method for creating such a graph ?\n",
    "\n",
    "Ans. Histogram shows total values of X wrt Y. Which means at any particular position of X, Y value shows the total number of counts or data \n",
    "below that value of X. numpy.histogram() is the built in function used."
   ]
  },
  {
   "cell_type": "code",
   "execution_count": null,
   "id": "bfea04d4-49af-4c7f-8292-1082d409b2b8",
   "metadata": {},
   "outputs": [],
   "source": [
    "#4. If necessary, how do you change the aspect ratios between the X and Y axes ?\n",
    "\n",
    "Ans. We can use figure(figsize=(10,8)) function inside the matplot.pyplot library which we scale down or up the graph."
   ]
  },
  {
   "cell_type": "code",
   "execution_count": null,
   "id": "bae893fe-d17e-4c54-ae3e-3066b3652d66",
   "metadata": {},
   "outputs": [],
   "source": [
    "#5. Compare and contrast the three types of array multiplication between two numpy arrays: dot product, outer product, and regular multiplication of two numpy arrays ?\n",
    "\n",
    "Ans. In regular multiplication values of same index get multiplied.\n",
    "\n",
    "*In dot product there is row wise multiplication, row of one array with column of second array and so on.\n",
    "*In outer multiplication every element of first array a1 will be multiply by every element of other array a2 such such the number of columns \n",
    "will be equal to the number of element in another array a2."
   ]
  },
  {
   "cell_type": "code",
   "execution_count": null,
   "id": "126392cb-71f5-44d0-96ae-e1549263cb71",
   "metadata": {},
   "outputs": [],
   "source": [
    "#6. Before you buy a home, which numpy function will you use to measure your monthly mortgage payment ?\n",
    "\n",
    "Ans. np.pmt(rate, nper, pv) function we will be using in order to calculate monthly mortgage payment before you purchase a house.\n",
    "\n",
    "*rate = The periodic interest rate\n",
    "*nper = The number of payment periods\n",
    "*pv = The total value of the mortgage loan"
   ]
  },
  {
   "cell_type": "code",
   "execution_count": null,
   "id": "d9c63c38-0a13-4ecb-968b-1d76a05da0ec",
   "metadata": {},
   "outputs": [],
   "source": [
    "#7. Can string data be stored in numpy arrays? If so, list at least one restriction that applies to this data ?\n",
    "\n",
    "Ans. Yes, an array can store the string. The limitation which imposed on the string data is, whenever we store the data of string dtype \n",
    "then it should should keep in mind that the string which is having the maximum length is the limit."
   ]
  }
 ],
 "metadata": {
  "kernelspec": {
   "display_name": "Python 3 (ipykernel)",
   "language": "python",
   "name": "python3"
  },
  "language_info": {
   "codemirror_mode": {
    "name": "ipython",
    "version": 3
   },
   "file_extension": ".py",
   "mimetype": "text/x-python",
   "name": "python",
   "nbconvert_exporter": "python",
   "pygments_lexer": "ipython3",
   "version": "3.10.6"
  }
 },
 "nbformat": 4,
 "nbformat_minor": 5
}
